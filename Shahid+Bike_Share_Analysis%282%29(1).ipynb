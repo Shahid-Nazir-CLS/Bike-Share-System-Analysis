{
 "cells": [
  {
   "cell_type": "markdown",
   "metadata": {},
   "source": [
    "<a id='intro'></a>\n",
    "## Introduction\n",
    "\n",
    "\n",
    "Over the past decade, bicycle-sharing systems have been growing in number and popularity in cities across the world. Bicycle-sharing systems allow users to rent bicycles for short trips, typically 30 minutes or less. Thanks to the rise in information technologies, it is easy for a user of the system to access a dock within the system to unlock or return bicycles. These technologies also provide a wealth of data that can be used to explore how these bike-sharing systems are used.\n",
    "\n",
    "In this project, you will perform an exploratory analysis on data provided by [Motivate](https://www.motivateco.com/), a bike-share system provider for many major cities in the United States. You will compare the system usage between three large cities: New York City, Chicago, and Washington, DC. You will also see if there are any differences within each system for those users that are registered, regular users and those users that are short-term, casual users."
   ]
  },
  {
   "cell_type": "markdown",
   "metadata": {},
   "source": [
    "<a id='pose_questions'></a>\n",
    "## Posing Questions\n",
    "\n",
    "**Question 1**: Write at least two questions related to bike sharing that you think could be answered by data.\n",
    "\n",
    "**Answer**: I think the following questions will be answered by the bike sharing data:<br />\n",
    "How much is the cost per user for three different cities?<br />\n",
    "What is the number of users of bike-share in each city?<br />\n",
    "What is the most common day and time of useage for regular usres and casual users?<br />\n",
    "What is the most common trip duration?"
   ]
  },
  {
   "cell_type": "markdown",
   "metadata": {},
   "source": [
    "<a id='wrangling'></a>\n",
    "## Data Collection and Wrangling\n",
    "\n",
    "Now it's time to collect and explore our data. In this project, we will focus on the record of individual trips taken in 2016 from our selected cities: New York City, Chicago, and Washington, DC. Each of these cities has a page where we can freely download the trip data.:\n",
    "\n",
    "- New York City (Citi Bike): [Link](https://www.citibikenyc.com/system-data)\n",
    "- Chicago (Divvy): [Link](https://www.divvybikes.com/system-data)\n",
    "- Washington, DC (Capital Bikeshare): [Link](https://www.capitalbikeshare.com/system-data)\n",
    "\n",
    "**Question 2**: However, there is still a lot of data for us to investigate, so it's a good idea to start off by looking at one entry from each of the cities we're going to analyze. Run the first code cell below to load some packages and functions that you'll be using in your analysis. Then, complete the second code cell to print out the first trip recorded from each of the cities (the second line of each data file)."
   ]
  },
  {
   "cell_type": "code",
   "execution_count": 1,
   "metadata": {
    "collapsed": true
   },
   "outputs": [],
   "source": [
    "import csv # read and write csv files\n",
    "import datetime # operations to parse dates\n",
    "from pprint import pprint # use to print data structures like dictionaries in\n",
    "                          # a nicer way than the base print function."
   ]
  },
  {
   "cell_type": "code",
   "execution_count": 2,
   "metadata": {},
   "outputs": [
    {
     "name": "stdout",
     "output_type": "stream",
     "text": [
      "\n",
      "City: NYC\n",
      "OrderedDict([('tripduration', '839'),\n",
      "             ('starttime', '1/1/2016 00:09:55'),\n",
      "             ('stoptime', '1/1/2016 00:23:54'),\n",
      "             ('start station id', '532'),\n",
      "             ('start station name', 'S 5 Pl & S 4 St'),\n",
      "             ('start station latitude', '40.710451'),\n",
      "             ('start station longitude', '-73.960876'),\n",
      "             ('end station id', '401'),\n",
      "             ('end station name', 'Allen St & Rivington St'),\n",
      "             ('end station latitude', '40.72019576'),\n",
      "             ('end station longitude', '-73.98997825'),\n",
      "             ('bikeid', '17109'),\n",
      "             ('usertype', 'Customer'),\n",
      "             ('birth year', ''),\n",
      "             ('gender', '0')])\n",
      "\n",
      "City: Chicago\n",
      "OrderedDict([('trip_id', '9080545'),\n",
      "             ('starttime', '3/31/2016 23:30'),\n",
      "             ('stoptime', '3/31/2016 23:46'),\n",
      "             ('bikeid', '2295'),\n",
      "             ('tripduration', '926'),\n",
      "             ('from_station_id', '156'),\n",
      "             ('from_station_name', 'Clark St & Wellington Ave'),\n",
      "             ('to_station_id', '166'),\n",
      "             ('to_station_name', 'Ashland Ave & Wrightwood Ave'),\n",
      "             ('usertype', 'Subscriber'),\n",
      "             ('gender', 'Male'),\n",
      "             ('birthyear', '1990')])\n",
      "\n",
      "City: Washington\n",
      "OrderedDict([('Duration (ms)', '427387'),\n",
      "             ('Start date', '3/31/2016 22:57'),\n",
      "             ('End date', '3/31/2016 23:04'),\n",
      "             ('Start station number', '31602'),\n",
      "             ('Start station', 'Park Rd & Holmead Pl NW'),\n",
      "             ('End station number', '31207'),\n",
      "             ('End station', 'Georgia Ave and Fairmont St NW'),\n",
      "             ('Bike number', 'W20842'),\n",
      "             ('Member Type', 'Registered')])\n"
     ]
    }
   ],
   "source": [
    "def print_first_point(filename):\n",
    "    \"\"\"\n",
    "    This function prints and returns the first data point (second row) from\n",
    "    a csv file that includes a header row.\n",
    "    \"\"\"\n",
    "    # print city name for reference\n",
    "    city = filename.split('-')[0].split('/')[-1]\n",
    "    print('\\nCity: {}'.format(city))\n",
    "    \n",
    "    with open(filename, 'r') as f_in:\n",
    "        ## TODO: Use the csv library to set up a DictReader object. ##\n",
    "        ## see https://docs.python.org/3/library/csv.html           ##\n",
    "        \n",
    "        trip_reader = csv.DictReader(f_in)\n",
    "        \n",
    "        ## TODO: Use a function on the DictReader object to read the     ##\n",
    "        ## first trip from the data file and store it in a variable.     ##\n",
    "        ## see https://docs.python.org/3/library/csv.html#reader-objects ##\n",
    "  \n",
    "        first_trip = next(trip_reader)\n",
    "        \n",
    "        ## TODO: Use the pprint library to print the first trip. ##\n",
    "        ## see https://docs.python.org/3/library/pprint.html     ##\n",
    "        pprint(first_trip)\n",
    "        \n",
    "    # output city name and first trip for later testing\n",
    "    return (city, first_trip)\n",
    "\n",
    "# list of files for each city\n",
    "data_files = ['./data/NYC-CitiBike-2016.csv',\n",
    "              './data/Chicago-Divvy-2016.csv',\n",
    "              './data/Washington-CapitalBikeshare-2016.csv',]\n",
    "\n",
    "# print the first trip from each file, store in dictionary\n",
    "example_trips = {}\n",
    "for data_file in data_files:\n",
    "    city, first_trip = print_first_point(data_file)\n",
    "    example_trips[city] = first_trip\n",
    "  \n",
    "\n",
    "\n",
    "\n",
    "\n"
   ]
  },
  {
   "cell_type": "markdown",
   "metadata": {},
   "source": [
    "<a id='condensing'></a>\n",
    "### Condensing the Trip Data\n",
    "\n",
    "It should also be observable from the above printout that each city provides different information. Even where the information is the same, the column names and formats are sometimes different. To make things as simple as possible when we get to the actual exploration, we should trim and clean the data. Cleaning the data makes sure that the data formats across the cities are consistent, while trimming focuses only on the parts of the data we are most interested in to make the exploration easier to work with.\n",
    "\n",
    "We will generate new data files with five values of interest for each trip: trip duration, starting month, starting hour, day of the week, and user type. Each of these may require additional wrangling depending on the city.\n",
    "\n",
    "**Question 3a**: Complete the helper functions in the code cells below to address each of the cleaning tasks described above."
   ]
  },
  {
   "cell_type": "code",
   "execution_count": 3,
   "metadata": {
    "collapsed": true
   },
   "outputs": [],
   "source": [
    "def duration_in_mins(datum, city):\n",
    "    \"\"\"\n",
    "    Takes as input a dictionary containing info about a single trip (datum) and\n",
    "    its origin city (city) and returns the trip duration in units of minutes.\n",
    "    \"\"\"\n",
    "    \n",
    "    if city=='Chicago' or city=='NYC':\n",
    "        duration = int(datum['tripduration'])/60\n",
    "    else:\n",
    "        duration = int(datum['Duration (ms)'])/60000\n",
    "    \n",
    "    return duration\n",
    "\n",
    "\n",
    "# Some tests to check that your code works. There should be no output if all of\n",
    "# the assertions pass. The `example_trips` dictionary was obtained from when\n",
    "# you printed the first trip from each of the original data files.\n",
    "tests = {'NYC': 13.9833,\n",
    "         'Chicago': 15.4333,\n",
    "         'Washington': 7.1231}\n",
    "\n",
    "for city in tests:\n",
    "    assert abs(duration_in_mins(example_trips[city], city) - tests[city]) < .001"
   ]
  },
  {
   "cell_type": "code",
   "execution_count": 4,
   "metadata": {
    "collapsed": true
   },
   "outputs": [],
   "source": [
    "def time_of_trip(datum, city):\n",
    "    \"\"\"\n",
    "    Takes as input a dictionary containing info about a single trip (datum) and\n",
    "    its origin city (city) and returns the month, hour, and day of the week in\n",
    "    which the trip was made.\n",
    "    \"\"\"\n",
    "    \n",
    "    if city=='NYC':\n",
    "        start_time = datum['starttime']\n",
    "        formatted_start_time = datetime.datetime.strptime(start_time, \"%m/%d/%Y %H:%M:%S\")\n",
    "    elif city=='Washington':\n",
    "        start_time = datum['Start date']\n",
    "        formatted_start_time = datetime.datetime.strptime(start_time, \"%m/%d/%Y %H:%M\")\n",
    "    else:\n",
    "        start_time = datum['starttime']\n",
    "        formatted_start_time = datetime.datetime.strptime(start_time, \"%m/%d/%Y %H:%M\")\n",
    "    \n",
    "    month = formatted_start_time.month\n",
    "    day_of_week = formatted_start_time.strftime(\"%A\")\n",
    "    hour = formatted_start_time.hour\n",
    "    return (month, hour, day_of_week)\n",
    "\n",
    "\n",
    "# Some tests to check that your code works. There should be no output if all of\n",
    "# the assertions pass. The `example_trips` dictionary was obtained from when\n",
    "# you printed the first trip from each of the original data files.\n",
    "tests = {'NYC': (1, 0, 'Friday'),\n",
    "         'Chicago': (3, 23, 'Thursday'),\n",
    "         'Washington': (3, 22, 'Thursday')}\n",
    "\n",
    "for city in tests:\n",
    "    assert time_of_trip(example_trips[city], city) == tests[city]"
   ]
  },
  {
   "cell_type": "code",
   "execution_count": 5,
   "metadata": {
    "collapsed": true
   },
   "outputs": [],
   "source": [
    "def type_of_user(datum, city):\n",
    "    \"\"\"\n",
    "    Takes as input a dictionary containing info about a single trip (datum) and\n",
    "    its origin city (city) and returns the type of system user that made the\n",
    "    trip. \n",
    "    \"\"\"\n",
    "    \n",
    "    if city=='NYC' or city=='Chicago':\n",
    "        user_type = datum['usertype']\n",
    "    else:\n",
    "        if datum['Member Type']=='Registered':\n",
    "            user_type = 'Subscriber'\n",
    "        else:\n",
    "            user_type = 'Customer'\n",
    "    return user_type\n",
    "\n",
    "\n",
    "# Some tests to check that your code works. There should be no output if all of\n",
    "# the assertions pass. The `example_trips` dictionary was obtained from when\n",
    "# you printed the first trip from each of the original data files.\n",
    "tests = {'NYC': 'Customer',\n",
    "         'Chicago': 'Subscriber',\n",
    "         'Washington': 'Subscriber'}\n",
    "\n",
    "for city in tests:\n",
    "    assert type_of_user(example_trips[city], city) == tests[city]"
   ]
  },
  {
   "cell_type": "markdown",
   "metadata": {},
   "source": [
    "**Question 3b**: Now, use the helper functions you wrote above to create a condensed data file for each city consisting only of the data fields indicated above. In the `/examples/` folder, you will see an example datafile from the [Bay Area Bike Share](http://www.bayareabikeshare.com/open-data) before and after conversion. Make sure that your output is formatted to be consistent with the example file."
   ]
  },
  {
   "cell_type": "code",
   "execution_count": 6,
   "metadata": {
    "collapsed": true
   },
   "outputs": [],
   "source": [
    "def condense_data(in_file, out_file, city):\n",
    "    \"\"\"\n",
    "    This function takes full data from the specified input file\n",
    "    and writes the condensed data to a specified output file. The city\n",
    "    argument determines how the input file will be parsed.\n",
    "    \"\"\"\n",
    "    \n",
    "    with open(out_file, 'w') as f_out, open(in_file, 'r') as f_in:\n",
    "        # set up csv DictWriter object - writer requires column names for the\n",
    "        # first row as the \"fieldnames\" argument\n",
    "        out_colnames = ['duration', 'month', 'hour', 'day_of_week', 'user_type']        \n",
    "        trip_writer = csv.DictWriter(f_out, fieldnames = out_colnames)\n",
    "        trip_writer.writeheader()\n",
    "        \n",
    "        ## TODO: set up csv DictReader object ##\n",
    "        trip_reader = csv.DictReader(f_in)\n",
    "\n",
    "        # collect data from and process each row\n",
    "        for row in trip_reader:\n",
    "            # set up a dictionary to hold the values for the cleaned and trimmed\n",
    "            # data point\n",
    "            new_point = {}\n",
    "\n",
    "            ## TODO: use the helper functions to get the cleaned data from  ##\n",
    "            ## the original data dictionaries.                              ##\n",
    "            ## Note that the keys for the new_point dictionary should match ##\n",
    "            ## the column names set in the DictWriter object above.         ##\n",
    "            new_point['duration'] = duration_in_mins(row, city)\n",
    "            new_point['month'],new_point['hour'],new_point['day_of_week'] = time_of_trip(row,city)\n",
    "            new_point['user_type'] = type_of_user(row,city)\n",
    "            \n",
    "\n",
    "            ## TODO: write the processed information to the output file.     ##\n",
    "            ## see https://docs.python.org/3/library/csv.html#writer-objects ##\n",
    "            \n",
    "            trip_writer.writerow(new_point)"
   ]
  },
  {
   "cell_type": "code",
   "execution_count": 7,
   "metadata": {},
   "outputs": [
    {
     "name": "stdout",
     "output_type": "stream",
     "text": [
      "\n",
      "City: Washington\n",
      "OrderedDict([('duration', '7.123116666666666'),\n",
      "             ('month', '3'),\n",
      "             ('hour', '22'),\n",
      "             ('day_of_week', 'Thursday'),\n",
      "             ('user_type', 'Subscriber')])\n",
      "\n",
      "City: Chicago\n",
      "OrderedDict([('duration', '15.433333333333334'),\n",
      "             ('month', '3'),\n",
      "             ('hour', '23'),\n",
      "             ('day_of_week', 'Thursday'),\n",
      "             ('user_type', 'Subscriber')])\n",
      "\n",
      "City: NYC\n",
      "OrderedDict([('duration', '13.983333333333333'),\n",
      "             ('month', '1'),\n",
      "             ('hour', '0'),\n",
      "             ('day_of_week', 'Friday'),\n",
      "             ('user_type', 'Customer')])\n"
     ]
    }
   ],
   "source": [
    "# To check my work\n",
    "city_info = {'Washington': {'in_file': './data/Washington-CapitalBikeshare-2016.csv',\n",
    "                            'out_file': './data/Washington-2016-Summary.csv'},\n",
    "             'Chicago': {'in_file': './data/Chicago-Divvy-2016.csv',\n",
    "                         'out_file': './data/Chicago-2016-Summary.csv'},\n",
    "             'NYC': {'in_file': './data/NYC-CitiBike-2016.csv',\n",
    "                     'out_file': './data/NYC-2016-Summary.csv'}}\n",
    "\n",
    "for city, filenames in city_info.items():\n",
    "    condense_data(filenames['in_file'], filenames['out_file'], city)\n",
    "    print_first_point(filenames['out_file'])"
   ]
  },
  {
   "cell_type": "markdown",
   "metadata": {},
   "source": [
    "<a id='eda'></a>\n",
    "## Exploratory Data Analysis\n",
    "\n",
    "Now that you have the data collected and wrangled, you're ready to start exploring the data. In this section you will write some code to compute descriptive statistics from the data. You will also be introduced to the `matplotlib` library to create some basic histograms of the data.\n",
    "\n",
    "<a id='statistics'></a>\n",
    "### Statistics\n",
    "\n",
    "First, let's compute some basic counts. The first cell below contains a function that uses the csv module to iterate through a provided data file, returning the number of trips made by subscribers and customers. The second cell runs this function on the example Bay Area data in the `/examples/` folder. Modify the cells to answer the question below.\n",
    "\n",
    "**Question 4a**: Which city has the highest number of trips? Which city has the highest proportion of trips made by subscribers? Which city has the highest proportion of trips made by short-term customers?\n",
    "\n",
    "**Answer**: NYC has highest number o trips. NYC has the highest proportion of trips made by subscribers. Washington has the highest proportion of trips made by short-term customers."
   ]
  },
  {
   "cell_type": "code",
   "execution_count": 8,
   "metadata": {
    "collapsed": true
   },
   "outputs": [],
   "source": [
    "def number_of_trips(filename):\n",
    "    \"\"\"\n",
    "    This function reads in a file with trip data and reports the number of\n",
    "    trips made by subscribers, customers, and total overall.\n",
    "    \"\"\"\n",
    "    with open(filename, 'r') as f_in:\n",
    "        # set up csv reader object\n",
    "        reader = csv.DictReader(f_in)\n",
    "        \n",
    "        # initialize count variables\n",
    "        n_subscribers = 0\n",
    "        n_customers = 0\n",
    "        \n",
    "        # tally up ride types\n",
    "        for row in reader:\n",
    "            if row['user_type'] == 'Subscriber':\n",
    "                n_subscribers += 1\n",
    "            else:\n",
    "                n_customers += 1\n",
    "        \n",
    "        # compute total number of rides\n",
    "        n_total = n_subscribers + n_customers\n",
    "        \n",
    "        # return tallies as a tuple\n",
    "        return(n_subscribers, n_customers, n_total)"
   ]
  },
  {
   "cell_type": "code",
   "execution_count": 9,
   "metadata": {},
   "outputs": [
    {
     "name": "stdout",
     "output_type": "stream",
     "text": [
      "Chicago\n",
      "n_Subscribers = 54982\n",
      "n_Customers = 17149\n",
      "n_total = 72131\n",
      "proportion subscribers: 0.7622520136973008\n",
      "proportion customers: 0.23774798630269925\n",
      "\n",
      "NYC\n",
      "n_Subscribers = 245896\n",
      "n_Customers = 30902\n",
      "n_total = 276798\n",
      "proportion subscribers: 0.8883590199351151\n",
      "proportion customers: 0.11164098006488486\n",
      "\n",
      "Washington\n",
      "n_Subscribers = 51753\n",
      "n_Customers = 14573\n",
      "n_total = 66326\n",
      "proportion subscribers: 0.7802822422579381\n",
      "proportion customers: 0.21971775774206193\n",
      "\n"
     ]
    }
   ],
   "source": [
    "\"\"\"\n",
    "        Print out total subscribers , customers , total users , proportion of subscribers and\n",
    "        proportion of customers in each city.\n",
    "\"\"\"\n",
    "trips_made = []\n",
    "data_file = ['./data/Chicago-2016-Summary.csv','./data/NYC-2016-Summary.csv','./data/Washington-2016-Summary.csv']\n",
    "for file in data_file:\n",
    "    \n",
    "    ##store the number of subscribers in n_subscribers , number of customers in n_customers\n",
    "    ##and number of total customers in n_total\n",
    "    n_subscribers, n_customers, n_total = number_of_trips(file)\n",
    "    \n",
    "    ##print the city name\n",
    "    print(file.split('-')[0].split('/')[-1])\n",
    "    \n",
    "    ##print number of subscribers , customers and total users per city\n",
    "    print('n_Subscribers = {}\\nn_Customers = {}\\nn_total = {}'.format(n_subscribers,n_customers,n_total))\n",
    "    \n",
    "    ##print the proportion of subscribers\n",
    "    print(\"proportion subscribers: {}\".format(n_subscribers/n_total))\n",
    "    \n",
    "    ##print the proportion of customers\n",
    "    print(\"proportion customers: {}\\n\".format(n_customers/n_total))"
   ]
  },
  {
   "cell_type": "markdown",
   "metadata": {},
   "source": [
    "**Question 4b**: Bike-share systems are designed for riders to take short trips. Most of the time, users are allowed to take trips of 30 minutes or less with no additional charges, with overage charges made for trips of longer than that duration. What is the average trip length for each city? What proportion of rides made in each city are longer than 30 minutes?\n",
    "\n",
    "**Answer**: <br>Average trip length for NYC is 16.739946848168653 and proportion of rides than are longer than 30 minutes in NYC is 7.350665800844978%.<br>\n",
    "Average trip length for Chicago is 16.563629368787335 and proportion of rides than are longer than 30 minutes in Chicago is 8.332062497400562%.<br>Average trip length for Washington is 18.93287355913721 and proportion of rides than are longer than 30 minutes in Washington is 10.83888671109369%."
   ]
  },
  {
   "cell_type": "code",
   "execution_count": 10,
   "metadata": {
    "collapsed": true,
    "scrolled": true
   },
   "outputs": [],
   "source": [
    "\"\"\"\n",
    "    This function returns total trips , total duration of trips and trips longer than 30 minutes in each city\n",
    "\"\"\"\n",
    "\n",
    "def trip_length(data_file):\n",
    "    total_trips = 0\n",
    "    total_duration = 0\n",
    "    trips_longer_than_thirty_mins = 0\n",
    "    with open(data_file) as f_in:\n",
    "        reader = csv.DictReader(f_in)                    \n",
    "        for row in reader:\n",
    "            ##increment total trips for each row\n",
    "            total_trips +=1\n",
    "            \n",
    "            ##increment duration by duration of row for each row\n",
    "            total_duration += float(row['duration'])\n",
    "            \n",
    "            ##increment the trips_longer_than_thirty_mins variable for each row \n",
    "            ##if the trip duration is greater than 30 minutes\n",
    "            if float(row['duration'])>30:\n",
    "                trips_longer_than_thirty_mins +=1\n",
    "                \n",
    "    return(total_trips,total_duration,trips_longer_than_thirty_mins)\n",
    "\n"
   ]
  },
  {
   "cell_type": "code",
   "execution_count": 11,
   "metadata": {},
   "outputs": [
    {
     "name": "stdout",
     "output_type": "stream",
     "text": [
      "Chicago:\n",
      "Average duration = 16.563629368787335\n",
      "Proportion of trips longer than 30 minutes = 8.332062497400562%\n",
      "NYC:\n",
      "Average duration = 15.81259299802294\n",
      "Proportion of trips longer than 30 minutes = 7.3024371563378345%\n",
      "Washington:\n",
      "Average duration = 18.93287355913721\n",
      "Proportion of trips longer than 30 minutes = 10.83888671109369%\n"
     ]
    }
   ],
   "source": [
    "data_file = ['./data/Chicago-2016-Summary.csv','./data/NYC-2016-Summary.csv','./data/Washington-2016-Summary.csv']\n",
    "for file in data_file:\n",
    "    \n",
    "    ##declare the variables total_trips and trips_longer_than_thirty_mins\n",
    "    ##store the value of total trips and trips which are longer than 30 mins in these variables\n",
    "    total_trips,total_duration,trips_longer_than_thirty_mins = trip_length(file)\n",
    "    \n",
    "    ##print city name\n",
    "    print(file.split('-')[0].split('/')[-1]+':')\n",
    "    \n",
    "    ##print the average duration of trips by dividing total duration by total trips\n",
    "    print('Average duration = {}'.format(total_duration/total_trips))\n",
    "    \n",
    "    ##print the proportion of trips that are longer than 30 mins by dividing trips longer than 30 mins by\n",
    "    ##total trips and multiplying by 100\n",
    "    print('Proportion of trips longer than 30 minutes = {}%'.format(trips_longer_than_thirty_mins/total_trips*100))"
   ]
  },
  {
   "cell_type": "markdown",
   "metadata": {},
   "source": [
    "**Question 4c**: Dig deeper into the question of trip duration based on ridership. Choose one city. Within that city, which type of user takes longer rides on average: Subscribers or Customers?\n",
    "\n",
    "**Answer**: On average customers take longer than subscribers."
   ]
  },
  {
   "cell_type": "code",
   "execution_count": 12,
   "metadata": {
    "collapsed": true
   },
   "outputs": [],
   "source": [
    "\"\"\"\n",
    "    This function returns total duration of trips of subscribers and customers.\n",
    "\"\"\"\n",
    "def trip_length_for_type(file):\n",
    "    ##declare variables to record total duration of trips of customers and subscribers\n",
    "    trip_length_subscriber = 0\n",
    "    trip_length_customer = 0\n",
    "    \n",
    "    with open(file) as f_in:\n",
    "        reader = csv.DictReader(f_in)\n",
    "        \n",
    "        for row in reader:\n",
    "            \n",
    "            ##we will check if the user is a subscriber or a customer and will then update the lists accordingly\n",
    "            ##we will also change the type of duration to float because each entity of a csv file is a string\n",
    "            if row['user_type']=='Subscriber':\n",
    "                trip_length_subscriber +=float(row['duration'])\n",
    "            else:\n",
    "                trip_length_customer +=float(row['duration'])\n",
    "                \n",
    "    return(trip_length_subscriber,trip_length_customer)"
   ]
  },
  {
   "cell_type": "code",
   "execution_count": 13,
   "metadata": {},
   "outputs": [
    {
     "name": "stdout",
     "output_type": "stream",
     "text": [
      "Average trip duration of Subscriber is 12.528120499294745 and of Customer is 41.67803139252976\n"
     ]
    }
   ],
   "source": [
    "trip_length_subscriber,trip_length_customer = trip_length_for_type('./data/Washington-2016-Summary.csv')\n",
    "n_subscribers, n_customers, n_total = number_of_trips('./data/Washington-2016-Summary.csv')\n",
    "print('Average trip duration of Subscriber is {} and of Customer is {}'.format((trip_length_subscriber/n_subscribers)\n",
    "                                                                               ,(trip_length_customer/n_customers)))"
   ]
  },
  {
   "cell_type": "markdown",
   "metadata": {},
   "source": [
    "<a id='visualizations'></a>\n",
    "### Visualizations\n",
    "\n",
    "The last set of values that you computed should have pulled up an interesting result. While the mean trip time for Subscribers is well under 30 minutes, the mean trip time for Customers is actually _above_ 30 minutes! It will be interesting for us to look at how the trip times are distributed. In order to do this, a new library will be introduced here, `matplotlib`. Run the cell below to load the library and to generate an example plot."
   ]
  },
  {
   "cell_type": "code",
   "execution_count": 14,
   "metadata": {},
   "outputs": [
    {
     "data": {
      "image/png": "[encoded data removed]",
      "text/plain": [
       "<matplotlib.figure.Figure at 0x1bb626d6f60>"
      ]
     },
     "metadata": {},
     "output_type": "display_data"
    }
   ],
   "source": [
    "# load library\n",
    "import matplotlib.pyplot as plt\n",
    "\n",
    "# this is a 'magic word' that allows for plots to be displayed\n",
    "# inline with the notebook. If you want to know more, see:\n",
    "# http://ipython.readthedocs.io/en/stable/interactive/magics.html\n",
    "%matplotlib inline \n",
    "\n",
    "# example histogram, data taken from bay area sample\n",
    "data = [ 7.65,  8.92,  7.42,  5.50, 16.17,  4.20,  8.98,  9.62, 11.48, 14.33,\n",
    "        19.02, 21.53,  3.90,  7.97,  2.62,  2.67,  3.08, 14.40, 12.90,  7.83,\n",
    "        25.12,  8.30,  4.93, 12.43, 10.60,  6.17, 10.88,  4.78, 15.15,  3.53,\n",
    "         9.43, 13.32, 11.72,  9.85,  5.22, 15.10,  3.95,  3.17,  8.78,  1.88,\n",
    "         4.55, 12.68, 12.38,  9.78,  7.63,  6.45, 17.38, 11.90, 11.52,  8.63,]\n",
    "plt.hist(data)\n",
    "plt.title('Distribution of Trip Durations')\n",
    "plt.xlabel('Duration (m)')\n",
    "plt.show()"
   ]
  },
  {
   "cell_type": "markdown",
   "metadata": {},
   "source": [
    "In the above cell, we collected fifty trip times in a list, and passed this list as the first argument to the `.hist()` function. This function performs the computations and creates plotting objects for generating a histogram, but the plot is actually not rendered until the `.show()` function is executed. The `.title()` and `.xlabel()` functions provide some labeling for plot context.\n",
    "\n",
    "You will now use these functions to create a histogram of the trip times for the city you selected in question 4c. Don't separate the Subscribers and Customers for now: just collect all of the trip times and plot them."
   ]
  },
  {
   "cell_type": "code",
   "execution_count": 15,
   "metadata": {
    "collapsed": true
   },
   "outputs": [],
   "source": [
    "\"\"\"\n",
    "    This function returns a list of durations of users of bike share system in Washington\n",
    "\"\"\"\n",
    "def create_duration_list(file):\n",
    "    \n",
    "    ##declare a list that will record durations\n",
    "    duration_list= []\n",
    "    \n",
    "    with open(file) as f_in:\n",
    "        reader = csv.DictReader(f_in)\n",
    "        for row in reader:\n",
    "            \n",
    "            ##we will change the type of duration to float because each entity of a csv file is a string\n",
    "            duration_list.append(float(row['duration']))\n",
    "            \n",
    "    return duration_list\n"
   ]
  },
  {
   "cell_type": "code",
   "execution_count": 16,
   "metadata": {},
   "outputs": [
    {
     "data": {
      "image/png": "[encoded data removed]",
      "text/plain": [
       "<matplotlib.figure.Figure at 0x1bb632dc320>"
      ]
     },
     "metadata": {},
     "output_type": "display_data"
    }
   ],
   "source": [
    "\"\"\"\n",
    "    Histogram of duration of users in Washington\n",
    "\"\"\"\n",
    "%matplotlib inline \n",
    "duration_list = create_duration_list('./data/Washington-2016-Summary.csv')\n",
    "plt.hist(duration_list)\n",
    "plt.xlabel('trip-duration')\n",
    "plt.show()"
   ]
  },
  {
   "cell_type": "markdown",
   "metadata": {},
   "source": [
    "If you followed the use of the `.hist()` and `.show()` functions exactly like in the example, you're probably looking at a plot that's completely unexpected. The plot consists of one extremely tall bar on the left, maybe a very short second bar, and a whole lot of empty space in the center and right. Take a look at the duration values on the x-axis. This suggests that there are some highly infrequent outliers in the data. Instead of reprocessing the data, you will use additional parameters with the `.hist()` function to limit the range of data that is plotted. Documentation for the function can be found [[here]](https://matplotlib.org/devdocs/api/_as_gen/matplotlib.pyplot.hist.html#matplotlib.pyplot.hist).\n",
    "\n",
    "**Question 5**: Use the parameters of the `.hist()` function to plot the distribution of trip times for the Subscribers in your selected city. Do the same thing for only the Customers. Add limits to the plots so that only trips of duration less than 75 minutes are plotted. As a bonus, set the plots up so that bars are in five-minute wide intervals. For each group, where is the peak of each distribution? How would you describe the shape of each distribution?\n",
    "\n",
    "**Answer**: The peak of the distributions are at bins (15,20) and (5,10) for customers and subscribers respectively. \n",
    "\n",
    "I would say that the distribution is a log-normal distribution, which is characterized by a quick rise in frequency followed by a steady drop off in values causing a skew in the distribution.\n",
    "\n",
    "From the histogram we can see that customers tend to use the bikeshare service for longer durations than subscribers do, who mostly seem to use it for short jouneys."
   ]
  },
  {
   "cell_type": "code",
   "execution_count": 17,
   "metadata": {
    "collapsed": true
   },
   "outputs": [],
   "source": [
    "\"\"\"\n",
    "    This fucntion returns a list of subscribers and a list of customers\n",
    "\"\"\"\n",
    "def get_subs_and_cust(file):\n",
    "    \n",
    "    ##declare two lists to keep record of subscribers and customers\n",
    "    subscriber_list= []\n",
    "    customer_list= []\n",
    "    \n",
    "    with open(file) as f_in:\n",
    "        reader = csv.DictReader(f_in)\n",
    "        for row in reader:\n",
    "            \n",
    "            ##we will check if the user is a subscriber or a customer and will then update the lists accordingly\n",
    "            ##we will also change the type of duration to float because each entity of a csv file is a string\n",
    "            if row['user_type']=='Subscriber':\n",
    "                subscriber_list.append(float(row['duration']))\n",
    "            else:\n",
    "                customer_list.append(float(row['duration']))\n",
    "                \n",
    "    return(subscriber_list,customer_list)"
   ]
  },
  {
   "cell_type": "code",
   "execution_count": 18,
   "metadata": {},
   "outputs": [
    {
     "data": {
      "image/png": "[encoded data removed]",
      "text/plain": [
       "<matplotlib.figure.Figure at 0x1bb62134828>"
      ]
     },
     "metadata": {},
     "output_type": "display_data"
    }
   ],
   "source": [
    "\"\"\"\n",
    "    Histogram of subscriber trip duration of Washington\n",
    "\"\"\"\n",
    "subscriber_list,customer_list = get_subs_and_cust('./data/Washington-2016-Summary.csv')\n",
    "%matplotlib inline\n",
    "plt.hist(subscriber_list,bins = [x for x in range(0,80,5)],range =(0,75),rwidth = 0.9, color = 'b')\n",
    "plt.title('Subscriber trip Duration')\n",
    "plt.xlabel('trip-duration')\n",
    "plt.ylabel('users')\n",
    "plt.show()"
   ]
  },
  {
   "cell_type": "code",
   "execution_count": 19,
   "metadata": {},
   "outputs": [
    {
     "data": {
      "image/png": "[encoded data removed]",
      "text/plain": [
       "<matplotlib.figure.Figure at 0x1bb6215df60>"
      ]
     },
     "metadata": {},
     "output_type": "display_data"
    }
   ],
   "source": [
    "\"\"\"\n",
    "    Histogram of customer trip duration of Washington\n",
    "\"\"\"\n",
    "%matplotlib inline \n",
    "plt.hist(customer_list,bins = [x for x in range(0,80,5)],range =(0,75),rwidth = 0.9,color = 'c')\n",
    "plt.title('Customer trip Duration')\n",
    "plt.xlabel('trip-duration')\n",
    "plt.ylabel('users')\n",
    "plt.show()"
   ]
  },
  {
   "cell_type": "markdown",
   "metadata": {
    "collapsed": true
   },
   "source": [
    "<a id='eda_continued'></a>\n",
    "## Performing My Own Analysis\n",
    "\n",
    "**My Questions**: \n",
    "\n",
    "What is the busiest hour for bike share system in each city?<br/>What is the most busy day of week for bike share system in each city?<br/>What is the busiest bike share station in each city?<br/>How do the customers and subscribers vary throughout the year? Answer this by drawing a distribution of subscribers and customers for each city.<br/>What is the most busiest month in each city?\n",
    "\n",
    "**Answer**: \n",
    "\n",
    "The busiest hour is hour 17 i.e. 5pm in all the cities.<br/>\n",
    "Most busiest day is Monday in Chicago and Wednesday in NYC and Washington.<br/>\n",
    "Most busy station in Chicago is Streeter Dr & Grand Ave and in NYC is Pershing Square North and in Washington is Columbus Circle / Union Station.<br/>As we can see from the histograms below , the customers are very less than subscribers in every month.<br/>In Chicago the most busiest month is July and in NYC August and in Washington July."
   ]
  },
  {
   "cell_type": "code",
   "execution_count": 20,
   "metadata": {},
   "outputs": [],
   "source": [
    "\"\"\"\n",
    "    This function returns the most busy hour for the given city\n",
    "\"\"\"\n",
    "def find_busy_hour(file):\n",
    "    \n",
    "    ##declare a dictionary that will record what is the count of hours \n",
    "    ##in which user has used bike share system\n",
    "    hour_count_dict = {}\n",
    "    \n",
    "    ##declare variables that will count most busy hour and total customers that used bike in that hour\n",
    "    busy_hour = 0\n",
    "    total_cus = 0\n",
    "    \n",
    "    with open(file) as f_in:\n",
    "        reader = csv.DictReader(f_in)\n",
    "        for row in reader:\n",
    "            \n",
    "            ##get the hour from each entry and store it in variable k\n",
    "            k = row['hour']\n",
    "            if k in hour_count_dict:\n",
    "                hour_count_dict[k] += 1\n",
    "            else:\n",
    "                hour_count_dict[k] = 1\n",
    "\n",
    "    ##to get the most busy hour from the above dictionary and return it\n",
    "    ##each dictionary item is a tuple and contains a key and a value\n",
    "    ##we will compare the values one by one and keeping updatng the busy_hour variable\n",
    "    ##with largest dictionary value\n",
    "    for x in hour_count_dict.items():\n",
    "        if x[1] > total_cus:\n",
    "            busy_hour = x[0]\n",
    "            total_cus = x[1]\n",
    "            \n",
    "    return busy_hour"
   ]
  },
  {
   "cell_type": "code",
   "execution_count": 21,
   "metadata": {},
   "outputs": [
    {
     "name": "stdout",
     "output_type": "stream",
     "text": [
      "Most busy hour in Chicago for bike share system is hour 17\n",
      "Most busy hour in NYC for bike share system is hour 17\n",
      "Most busy hour in Washington for bike share system is hour 17\n"
     ]
    }
   ],
   "source": [
    "\"\"\"\n",
    "    Find busy hour of bike share system for Chicago , NYC and Washington\n",
    "\"\"\"\n",
    "busy_hour = find_busy_hour('./data/Chicago-2016-Summary.csv')\n",
    "print(\"Most busy hour in Chicago for bike share system is hour {}\".format(busy_hour))\n",
    "busy_hour = find_busy_hour('./data/NYC-2016-Summary.csv')\n",
    "print(\"Most busy hour in NYC for bike share system is hour {}\".format(busy_hour))\n",
    "busy_hour = find_busy_hour('./data/Washington-2016-Summary.csv')\n",
    "print(\"Most busy hour in Washington for bike share system is hour {}\".format(busy_hour))"
   ]
  },
  {
   "cell_type": "code",
   "execution_count": 22,
   "metadata": {},
   "outputs": [],
   "source": [
    "\"\"\"\n",
    "    This function returns the most busy day of the week for the given city\n",
    "\"\"\"\n",
    "def find_busiest_day(file):\n",
    "    \n",
    "    ##declare a dictionary that will record what is the count of days \n",
    "    ##in which user has used bike share system\n",
    "    day_count_dict = {}\n",
    "    \n",
    "    ##declare variables that will count most busy hour and total customers that used bike in that hour\n",
    "    busy_day = 0\n",
    "    total_cus = 0\n",
    "    \n",
    "    with open(file) as f_in:\n",
    "        reader = csv.DictReader(f_in)\n",
    "        for row in reader:\n",
    "            \n",
    "            ##get the day of week from the user row of file and store in variable k\n",
    "            k = row['day_of_week']\n",
    "            if k in day_count_dict:\n",
    "                day_count_dict[k] += 1\n",
    "            else:\n",
    "                day_count_dict[k] = 1\n",
    "\n",
    "    ##to get the most busy day from the above dictionary and return it\n",
    "    ##each dictionary item is a tuple and contains a key and a value\n",
    "    ##we will compare the values one by one and keeping updatng the busy_hour variable\n",
    "    ##with largest dictionary value\n",
    "    for x in day_count_dict.items():\n",
    "        if x[1] > total_cus:\n",
    "            busy_day = x[0]\n",
    "            total_cus = x[1]\n",
    "            \n",
    "    return busy_day"
   ]
  },
  {
   "cell_type": "code",
   "execution_count": 23,
   "metadata": {},
   "outputs": [
    {
     "name": "stdout",
     "output_type": "stream",
     "text": [
      "Most busy day in Chicago for bike share system is Monday\n",
      "Most busy day in NYC for bike share system is Wednesday\n",
      "Most busy day in Washington for bike share system is Wednesday\n"
     ]
    }
   ],
   "source": [
    "\"\"\"\n",
    "    Find busy hour of bike share system for Chicago , NYC and Washington\n",
    "\"\"\"\n",
    "busy_hour = find_busiest_day('./data/Chicago-2016-Summary.csv')\n",
    "print(\"Most busy day in Chicago for bike share system is {}\".format(busy_hour))\n",
    "busy_hour = find_busiest_day('./data/NYC-2016-Summary.csv')\n",
    "print(\"Most busy day in NYC for bike share system is {}\".format(busy_hour))\n",
    "busy_hour = find_busiest_day('./data/Washington-2016-Summary.csv')\n",
    "print(\"Most busy day in Washington for bike share system is {}\".format(busy_hour))"
   ]
  },
  {
   "cell_type": "code",
   "execution_count": 24,
   "metadata": {},
   "outputs": [],
   "source": [
    "\"\"\"\n",
    "    This function returns the most busy bike share station for the given city\n",
    "\"\"\"\n",
    "def most_busy_station(file):\n",
    "    \n",
    "    ##get the city name from filename\n",
    "    city = file.split('-')[0].split('/')[-1]\n",
    "    \n",
    "    ##declare a dictionary that will record what is the count of days \n",
    "    ##in which user has used bike share system\n",
    "    station_count_dict = {}\n",
    "    \n",
    "    ##declare variables to record the most busiest station and total customers that used that station\n",
    "    busy_station = ''\n",
    "    total_cus = 0\n",
    "    \n",
    "    with open(file) as f_in:\n",
    "        reader = csv.DictReader(f_in)\n",
    "        \n",
    "        ##in this function we will use the old datasets\n",
    "        ##we will get the start station name and end station name \n",
    "        ##for the user in the given city and store in variables k and t\n",
    "        for row in reader:\n",
    "            if city == 'NYC':\n",
    "                k = row['start station name']\n",
    "                t = row ['end station name']\n",
    "            elif city == 'Chicago':\n",
    "                k = row['from_station_name']\n",
    "                t = row['to_station_name']\n",
    "            else:\n",
    "                k = row['Start station']\n",
    "                t = row['End station']\n",
    "            \n",
    "            ##adding station names to dictionary and incrementing the count \n",
    "            ##if it already exists in dictionary\n",
    "            if k in station_count_dict:\n",
    "                station_count_dict[k] += 1\n",
    "            else:\n",
    "                station_count_dict[k] = 1\n",
    "\n",
    "            if t in station_count_dict:\n",
    "                station_count_dict[t] += 1\n",
    "            else:\n",
    "                station_count_dict[t] = 1\n",
    "                \n",
    "    ##to get the most busy station from the above dictionary and return it\n",
    "    ##each dictionary item is a tuple and contains a key and a value\n",
    "    ##we will compare the values one by one and keeping updatng the busy_hour variable\n",
    "    ##with largest dictionary value\n",
    "\n",
    "    for x in station_count_dict.items():\n",
    "        list(x)\n",
    "        if x[1] > total_cus:\n",
    "            busy_station = x[0]\n",
    "            total_cus = x[1]\n",
    "            \n",
    "    return busy_station"
   ]
  },
  {
   "cell_type": "code",
   "execution_count": 25,
   "metadata": {},
   "outputs": [
    {
     "name": "stdout",
     "output_type": "stream",
     "text": [
      "Most busy station in Chicago for bike share system is  Streeter Dr & Grand Ave\n",
      "Most busy station in NYC for bike share system is  Pershing Square North\n",
      "Most busy station in Washington for bike share system is  Columbus Circle / Union Station\n"
     ]
    }
   ],
   "source": [
    "\"\"\"\n",
    "    Find busy station of bike share system for Chicago , NYC and Washington\n",
    "\"\"\"\n",
    "busy_station = most_busy_station('./data/Chicago-Divvy-2016.csv')\n",
    "print(\"Most busy station in Chicago for bike share system is  {}\".format(busy_station))\n",
    "busy_station = most_busy_station('./data/NYC-CitiBike-2016.csv')\n",
    "print(\"Most busy station in NYC for bike share system is  {}\".format(busy_station))\n",
    "busy_station = most_busy_station('./data/Washington-CapitalBikeshare-2016.csv')\n",
    "print(\"Most busy station in Washington for bike share system is  {}\".format(busy_station))"
   ]
  },
  {
   "cell_type": "code",
   "execution_count": 26,
   "metadata": {
    "collapsed": true
   },
   "outputs": [],
   "source": [
    "\"\"\"\n",
    "    This function returns two lists. First list contains months \n",
    "    in which each subscriber used the bike share system and second \n",
    "    one return months in which each customer used the bike share system.\n",
    "\"\"\"\n",
    "def list_of_months(file):\n",
    "    \n",
    "    ##declare two lists to keep record of months in which each subscriber and customer used the bike\n",
    "    subscriber_month_list = []\n",
    "    customer_month_list = []\n",
    "    with open(file) as f_in:\n",
    "        reader = csv.DictReader(f_in)\n",
    "        for row in reader:\n",
    "            \n",
    "            ##declare a variable to store month of the user\n",
    "            k = row['month']\n",
    "            \n",
    "            ##we will check if the user is a subscriber or a customer and update the month lists accordingly\n",
    "            if row['user_type'] == 'Subscriber':\n",
    "                subscriber_month_list.append(int(k))\n",
    "            else:\n",
    "                customer_month_list.append(int(k))\n",
    "                \n",
    "    return customer_month_list,subscriber_month_list"
   ]
  },
  {
   "cell_type": "code",
   "execution_count": 27,
   "metadata": {},
   "outputs": [
    {
     "data": {
      "image/png": "[encoded data removed]",
      "text/plain": [
       "<matplotlib.figure.Figure at 0x1bb6395d6d8>"
      ]
     },
     "metadata": {},
     "output_type": "display_data"
    }
   ],
   "source": [
    "\"\"\"\n",
    "    Histogram of monthly subscribers and customers of Chicago using above created function 'list_of_months'\n",
    "\"\"\"\n",
    "customer_month_list,subscriber_month_list = list_of_months('./data/Chicago-2016-Summary.csv')\n",
    "%matplotlib inline \n",
    "plt.hist(subscriber_month_list,bins = [x for x in range(1,14,1)],rwidth = 0.9,color = 'c',label='Subscribers')\n",
    "plt.hist(customer_month_list,bins = [x for x in range(1,14,1)],rwidth = 0.9,color = 'r',label='Cutomers')\n",
    "plt.xlabel('Months')\n",
    "plt.ylabel('Users')\n",
    "plt.title('Chicago monthly distribution')\n",
    "plt.legend()\n",
    "plt.show()"
   ]
  },
  {
   "cell_type": "code",
   "execution_count": 28,
   "metadata": {},
   "outputs": [
    {
     "data": {
      "image/png": "[encoded data removed]",
      "text/plain": [
       "<matplotlib.figure.Figure at 0x1bb632e6400>"
      ]
     },
     "metadata": {},
     "output_type": "display_data"
    }
   ],
   "source": [
    "\"\"\"\n",
    "    Histogram of monthly subscribers and customers of NYC\n",
    "\"\"\"\n",
    "customer_list,subscriber_list = list_of_months('./data/NYC-2016-Summary.csv')\n",
    "%matplotlib inline \n",
    "plt.hist(subscriber_list,bins = [x for x in range(1,14,1)],rwidth = 0.9,color = 'c',label='Subscribers')\n",
    "plt.hist(customer_list,bins = [x for x in range(1,14,1)],rwidth = 0.9,color = 'r',label='Cutomers')\n",
    "plt.xlabel('Months')\n",
    "plt.ylabel('Users')\n",
    "plt.title('NYC monthly distribution')\n",
    "plt.legend()\n",
    "plt.show()"
   ]
  },
  {
   "cell_type": "code",
   "execution_count": 29,
   "metadata": {
    "scrolled": true
   },
   "outputs": [
    {
     "data": {
      "image/png": "[encoded data removed]",
      "text/plain": [
       "<matplotlib.figure.Figure at 0x1bb63979f60>"
      ]
     },
     "metadata": {},
     "output_type": "display_data"
    }
   ],
   "source": [
    "\"\"\"\n",
    "    Histogram monthly subscribers and customers of Washington \n",
    "\"\"\"\n",
    "customer_list,subscriber_list = list_of_months('./data/Washington-2016-Summary.csv')\n",
    "%matplotlib inline \n",
    "plt.hist(subscriber_list,bins = [x for x in range(1,14,1)],rwidth = 0.9,color = 'c',label='Subscribers')\n",
    "plt.hist(customer_list,bins = [x for x in range(1,14,1)],rwidth = 0.9,color = 'r',label='Cutomers')\n",
    "plt.xlabel('Months')\n",
    "plt.ylabel('Users')\n",
    "plt.title('Washington monthly distribution')\n",
    "plt.legend()\n",
    "plt.show()"
   ]
  },
  {
   "cell_type": "code",
   "execution_count": 30,
   "metadata": {},
   "outputs": [],
   "source": [
    "\"\"\"\n",
    "    This function will return the most busiest month of the year for subscribers and customers\n",
    "\"\"\"\n",
    "def most_busy_month(file):\n",
    "    \n",
    "    ##declare two variables to record the busy month of the year and other one to keep track of users in that month\n",
    "    busy_month = 0\n",
    "    users = 0\n",
    "    \n",
    "    ##We will use list_of_months function to get the list of months of subscribers and cutsomers for a given city\n",
    "    customer_month_list,subscriber_month_list = list_of_months(file)\n",
    "    \n",
    "    ##we will run the for loop 12 times one for each month\n",
    "    for x in range(1,13):\n",
    "        \n",
    "        ##count frequency of each month i.e number of users in that month\n",
    "        count_of_users_in_month = customer_month_list.count(x)\n",
    "        \n",
    "        ##we will keep checking for each month if that is most frequent or not\n",
    "        if users < count_of_users_in_month:\n",
    "            users  = count_of_users_in_month\n",
    "            busy_month = x\n",
    "            \n",
    "    return busy_month"
   ]
  },
  {
   "cell_type": "code",
   "execution_count": 31,
   "metadata": {},
   "outputs": [
    {
     "name": "stdout",
     "output_type": "stream",
     "text": [
      "Most busy month of the year in Chicago for bike share system is 7th month.\n",
      "Most busy month of the year in NYC for bike share system is 8th month.\n",
      "Most busy month of the year in Washington for bike share system is 7th month.\n"
     ]
    }
   ],
   "source": [
    "\"\"\"\n",
    "    Print the most busiest month in each city\n",
    "\"\"\"\n",
    "busy_month = most_busy_month('./data/Chicago-2016-Summary.csv')\n",
    "print(\"Most busy month of the year in Chicago for bike share system is {}th month.\".format(busy_month))\n",
    "busy_month = most_busy_month('./data/NYC-2016-Summary.csv')\n",
    "print(\"Most busy month of the year in NYC for bike share system is {}th month.\".format(busy_month))\n",
    "busy_month = most_busy_month('./data/Washington-2016-Summary.csv')\n",
    "print(\"Most busy month of the year in Washington for bike share system is {}th month.\".format(busy_month))"
   ]
  },
  {
   "cell_type": "markdown",
   "metadata": {},
   "source": [
    "<a id='conclusions'></a>\n",
    "## Conclusions\n",
    "**Question 7**: Putting the bike share data aside, think of a topic or field of interest where you would like to be able to apply the techniques of data science. What would you like to be able to learn from your chosen subject?\n",
    "\n",
    "**Answer**:I would love to apply my data science skills in restaurant analysis of major cities.\n",
    "From this project I would like to be able to learn following things:<br/>\n",
    "Which is most busiest restaurant in each city and overall?<br/>\n",
    "What is the most served cusine?<br/>\n",
    "What is the most and least busiest time to visit a restaurant?<br/>\n",
    "What is the average number of customers daily?<br/>\n",
    "What is the most served food in each city?<br/>\n",
    "What is the average food cost for a restaurant<br/>\n",
    "Which city has most restaurants?<br/>\n",
    "Which city has highest percentage of highest rated restaurants?<br/>\n",
    "What is the average opening and closing time of restaurants in each city?<br/>"
   ]
  }
 ],
 "metadata": {
  "anaconda-cloud": {},
  "kernelspec": {
   "display_name": "Python 3",
   "language": "python",
   "name": "python3"
  },
  "language_info": {
   "codemirror_mode": {
    "name": "ipython",
    "version": 3
   },
   "file_extension": ".py",
   "mimetype": "text/x-python",
   "name": "python",
   "nbconvert_exporter": "python",
   "pygments_lexer": "ipython3",
   "version": "3.6.3"
  }
 },
 "nbformat": 4,
 "nbformat_minor": 1
}
